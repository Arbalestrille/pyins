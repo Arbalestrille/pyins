{
 "cells": [
  {
   "cell_type": "code",
   "execution_count": 1,
   "metadata": {},
   "outputs": [],
   "source": [
    "import numpy as np\n",
    "import matplotlib.pyplot as plt\n",
    "import matplotlib.pyplot as plt\n",
    "from matplotlib import rcParams\n",
    "rcParams['legend.fontsize'] = 14\n",
    "rcParams['axes.labelsize'] = 14\n",
    "rcParams['axes.titlesize'] = 14\n",
    "%matplotlib inline"
   ]
  },
  {
   "cell_type": "markdown",
   "metadata": {},
   "source": [
    "# Intégration de mesures IMU"
   ]
  },
  {
   "cell_type": "markdown",
   "metadata": {},
   "source": [
    "## Génératation d'un point fixe au niveau de la ville de Paris"
   ]
  },
  {
   "cell_type": "code",
   "execution_count": 2,
   "metadata": {},
   "outputs": [],
   "source": [
    "lat_Paris = 48.8534 # en degrés\n",
    "lon_Paris = 2.3488 # en degrés\n",
    "alt_Paris = 35 # en mètre"
   ]
  },
  {
   "cell_type": "code",
   "execution_count": 3,
   "metadata": {},
   "outputs": [],
   "source": [
    "dt = 0.1 # s\n",
    "duree = 3600 # s\n",
    "n_samples = int(duree/dt)\n",
    "I3 = np.identity(3)\n",
    "Cnb = np.repeat(I3[None,...],n_samples,axis=0)"
   ]
  },
  {
   "cell_type": "markdown",
   "metadata": {},
   "source": [
    "Les vitesses Nord et Est sont nulles"
   ]
  },
  {
   "cell_type": "code",
   "execution_count": 4,
   "metadata": {},
   "outputs": [],
   "source": [
    "VN = np.zeros(n_samples)\n",
    "VE = np.zeros(n_samples)"
   ]
  },
  {
   "cell_type": "code",
   "execution_count": 5,
   "metadata": {},
   "outputs": [],
   "source": [
    "from pyins import sim"
   ]
  },
  {
   "cell_type": "code",
   "execution_count": 6,
   "metadata": {},
   "outputs": [],
   "source": [
    "gyros, accels = sim.stationary_rotation(dt, lat_Paris, alt_Paris, Cnb)"
   ]
  },
  {
   "cell_type": "code",
   "execution_count": 7,
   "metadata": {},
   "outputs": [
    {
     "name": "stdout",
     "output_type": "stream",
     "text": [
      "9.99999991145533\n"
     ]
    }
   ],
   "source": [
    "# unitée de la mesure accélérométrique\n",
    "from pyins import earth \n",
    "g = earth.gravity(np.sin(np.deg2rad(lat_Paris)), alt_Paris)\n",
    "print(g/accels[0,2])"
   ]
  },
  {
   "cell_type": "markdown",
   "metadata": {},
   "source": [
    "La mesure accélérométrique s'exprime en mg"
   ]
  },
  {
   "cell_type": "code",
   "execution_count": 8,
   "metadata": {},
   "outputs": [
    {
     "data": {
      "text/plain": [
       "Text(0.5, 0, 'time, s')"
      ]
     },
     "execution_count": 8,
     "metadata": {},
     "output_type": "execute_result"
    },
    {
     "data": {
      "image/png": "[encoded data removed]",
      "text/plain": [
       "<Figure size 1152x288 with 1 Axes>"
      ]
     },
     "metadata": {
      "needs_background": "light"
     },
     "output_type": "display_data"
    }
   ],
   "source": [
    "tps = np.linspace(0, duree, n_samples-1)\n",
    "# Affichage de la donnée accélérométrique\n",
    "plt.figure(figsize=(16, 4))\n",
    "plt.title('Force spécifique en mg')\n",
    "plt.plot(tps, accels)\n",
    "plt.legend(('X', 'Y', 'Z'), loc='best')\n",
    "plt.xlabel(\"time, s\")"
   ]
  },
  {
   "cell_type": "code",
   "execution_count": 9,
   "metadata": {},
   "outputs": [
    {
     "data": {
      "text/plain": [
       "9.999999999999998"
      ]
     },
     "execution_count": 9,
     "metadata": {},
     "output_type": "execute_result"
    }
   ],
   "source": [
    "# unitée de la mesure gyrométrique\n",
    "earth.RATE/np.linalg.norm(gyros[0,:])"
   ]
  },
  {
   "cell_type": "markdown",
   "metadata": {},
   "source": [
    "La mesure gyrométrique s'exprime en e-1 rad/s ?"
   ]
  },
  {
   "cell_type": "code",
   "execution_count": 10,
   "metadata": {},
   "outputs": [
    {
     "data": {
      "text/plain": [
       "Text(0.5, 0, 'time, s')"
      ]
     },
     "execution_count": 10,
     "metadata": {},
     "output_type": "execute_result"
    },
    {
     "data": {
      "image/png": "[encoded data removed]",
      "text/plain": [
       "<Figure size 1152x288 with 1 Axes>"
      ]
     },
     "metadata": {
      "needs_background": "light"
     },
     "output_type": "display_data"
    }
   ],
   "source": [
    "# Affichage des données gyrométriques\n",
    "plt.figure(figsize=(16, 4))\n",
    "plt.title('Vitesse angulaire e-1 rad/s')\n",
    "plt.plot(tps, gyros)\n",
    "plt.legend(('X', 'Y', 'Z'), loc='best')\n",
    "plt.xlabel(\"time, s\")"
   ]
  },
  {
   "cell_type": "markdown",
   "metadata": {},
   "source": [
    "## Intégration des mesures accélérométriques et gyrométriques"
   ]
  },
  {
   "cell_type": "code",
   "execution_count": 11,
   "metadata": {},
   "outputs": [],
   "source": [
    "from pyins.integrate import coning_sculling, integrate\n",
    "from pyins.filt import traj_diff"
   ]
  },
  {
   "cell_type": "markdown",
   "metadata": {},
   "source": [
    "Correction des mouvements coniques et de sculling "
   ]
  },
  {
   "cell_type": "code",
   "execution_count": 12,
   "metadata": {},
   "outputs": [],
   "source": [
    "theta, dv = coning_sculling(gyros, accels)"
   ]
  },
  {
   "cell_type": "markdown",
   "metadata": {},
   "source": [
    "Conditions initiales d'intégration"
   ]
  },
  {
   "cell_type": "code",
   "execution_count": 13,
   "metadata": {},
   "outputs": [],
   "source": [
    "from pyins.dcm import _to_hpr_array"
   ]
  },
  {
   "cell_type": "code",
   "execution_count": 14,
   "metadata": {},
   "outputs": [],
   "source": [
    "h, p, r = _to_hpr_array(Cnb)"
   ]
  },
  {
   "cell_type": "code",
   "execution_count": 15,
   "metadata": {},
   "outputs": [],
   "source": [
    "traj = integrate(dt, lat_Paris, lon_Paris, VN[0], VE[0], h[0], p[0], r[0], theta, dv, stamp=0)"
   ]
  },
  {
   "cell_type": "markdown",
   "metadata": {},
   "source": [
    "Affichage l'erreur par rapport à la reférence, le point fixe"
   ]
  },
  {
   "cell_type": "code",
   "execution_count": 16,
   "metadata": {},
   "outputs": [
    {
     "data": {
      "image/png": "[encoded data removed]",
      "text/plain": [
       "<Figure size 936x288 with 3 Axes>"
      ]
     },
     "metadata": {
      "needs_background": "light"
     },
     "output_type": "display_data"
    }
   ],
   "source": [
    "tps = traj.index * dt / 3600\n",
    "plt.figure(figsize=(13, 4))\n",
    "# lat = f(lon)\n",
    "plt.subplot(131)\n",
    "plt.plot(tps, traj.lon - lat_Paris*np.ones_like(traj.lon), label='$\\epsilon (lon)$')\n",
    "plt.plot(tps, traj.lat - lat_Paris*np.ones_like(traj.lon), label='$\\epsilon (lat)$')\n",
    "plt.xlabel(\"time, h\")\n",
    "plt.ylabel(\"deg\")\n",
    "plt.yscale('log')\n",
    "plt.legend(fontsize=16, loc='center right')\n",
    "# VE, VE = f(t)\n",
    "plt.subplot(132)\n",
    "plt.plot(tps, traj.VE, label='$\\epsilon (VE)$')\n",
    "plt.plot(tps, traj.VN, label='$\\epsilon (VN)$')\n",
    "plt.xlabel(\"time, h\")\n",
    "plt.ylabel(\"m/s\")\n",
    "plt.yscale('log')\n",
    "plt.legend(fontsize=16, loc='center right')\n",
    "# heading = f(t)\n",
    "plt.subplot(133)\n",
    "plt.plot(tps, traj.h, label='$\\epsilon (heading)$')\n",
    "plt.yscale('log')\n",
    "plt.xlabel(\"time, h\")\n",
    "plt.ylabel(\"deg\")\n",
    "plt.legend(loc='best')\n",
    "\n",
    "plt.tight_layout()"
   ]
  },
  {
   "cell_type": "code",
   "execution_count": null,
   "metadata": {},
   "outputs": [],
   "source": []
  }
 ],
 "metadata": {
  "kernelspec": {
   "display_name": "Python 3",
   "language": "python",
   "name": "python3"
  },
  "language_info": {
   "codemirror_mode": {
    "name": "ipython",
    "version": 3
   },
   "file_extension": ".py",
   "mimetype": "text/x-python",
   "name": "python",
   "nbconvert_exporter": "python",
   "pygments_lexer": "ipython3",
   "version": "3.7.6"
  }
 },
 "nbformat": 4,
 "nbformat_minor": 4
}
