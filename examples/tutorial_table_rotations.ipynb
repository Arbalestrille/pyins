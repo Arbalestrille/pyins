{
 "cells": [
  {
   "cell_type": "code",
   "execution_count": 1,
   "metadata": {},
   "outputs": [],
   "source": [
    "import numpy as np\n",
    "import matplotlib.pyplot as plt\n",
    "from mpl_toolkits.mplot3d import Axes3D, proj3d\n",
    "from matplotlib.patches import FancyArrowPatch\n",
    "from ipywidgets import interact, fixed\n",
    "import ipywidgets as widgets"
   ]
  },
  {
   "cell_type": "markdown",
   "metadata": {},
   "source": [
    "# Tutorial Table Rotations"
   ]
  },
  {
   "cell_type": "markdown",
   "metadata": {},
   "source": [
    "## Helper Functions"
   ]
  },
  {
   "cell_type": "markdown",
   "metadata": {},
   "source": [
    "We need the function plot_nb to visualize the body and navigation frames :"
   ]
  },
  {
   "cell_type": "code",
   "execution_count": 2,
   "metadata": {},
   "outputs": [],
   "source": [
    "class Arrow3D(FancyArrowPatch):\n",
    "    def __init__(self, xs, ys, zs, *args, **kwargs):\n",
    "        FancyArrowPatch.__init__(self, (0, 0), (0, 0), *args, **kwargs)\n",
    "        self._verts3d = xs, ys, zs\n",
    "    def draw(self, renderer):\n",
    "        xs3d, ys3d, zs3d = self._verts3d\n",
    "        xs, ys, zs = proj3d.proj_transform(xs3d, ys3d, zs3d, renderer.M)\n",
    "        self.set_positions((xs[0], ys[0]), (xs[1], ys[1]))\n",
    "        FancyArrowPatch.draw(self, renderer)\n",
    "\n",
    "def plot_nb(Cnb, plotNframe=True):\n",
    "    fig = plt.figure()\n",
    "    ax = fig.gca(projection='3d')\n",
    "    ax.grid(False)\n",
    "    lim = [-0.75, 0.75]\n",
    "    ax.set_xlim3d(lim)\n",
    "    ax.set_xticks([])\n",
    "    ax.set_ylim3d(lim)\n",
    "    ax.set_yticks([])\n",
    "    ax.set_zlim3d(lim)\n",
    "    ax.set_zticks([])\n",
    "    plt.axis('off')\n",
    "    \n",
    "    # plot the navigation frame N in black \n",
    "    if plotNframe:\n",
    "        z = [0, 0]\n",
    "        xn = Arrow3D([0, 1], z, z, mutation_scale=20,\n",
    "            lw=1, arrowstyle=\"-|>\", color='k')\n",
    "        ax.add_artist(xn)        \n",
    "        yn = Arrow3D(z, [0, 1], z, mutation_scale=20,\n",
    "            lw=1, arrowstyle=\"-|>\", color='k')\n",
    "        ax.add_artist(yn)            \n",
    "        zn = Arrow3D(z, z, [0, 1], mutation_scale=20,\n",
    "            lw=1, arrowstyle=\"-|>\", color='k')\n",
    "        ax.add_artist(zn)\n",
    "    \n",
    "    # plot the body frame B\n",
    "    xb = Arrow3D([0,Cnb[0,0]], [0,Cnb[1,0]], [0,Cnb[2,0]], mutation_scale=20,\n",
    "            lw=1, arrowstyle=\"-|>\", color='b', label='$x_b$')\n",
    "    ax.add_artist(xb)\n",
    "    yb = Arrow3D([0,Cnb[0,1]], [0,Cnb[1,1]], [0,Cnb[2,1]], mutation_scale=20,\n",
    "            lw=1, arrowstyle=\"-|>\", color='orange', label='$y_b$')\n",
    "    ax.add_artist(yb)\n",
    "    zb = Arrow3D([0,Cnb[0,2]], [0,Cnb[1,2]], [0,Cnb[2,2]], mutation_scale=20,\n",
    "            lw=1, arrowstyle=\"-|>\", color='g', label='$z_b$')\n",
    "    ax.add_artist(zb)\n",
    "    \n",
    "    plt.legend(handles=[xb,yb,zb]) \n",
    "    plt.show()"
   ]
  },
  {
   "cell_type": "markdown",
   "metadata": {},
   "source": [
    "## Create a direction cosine matrix from heading, pitch and roll angles"
   ]
  },
  {
   "cell_type": "markdown",
   "metadata": {},
   "source": [
    "By definition :\n",
    "${C}_{nb} = \\left[\n",
    "\\begin{array}{ccc}\n",
    "\\left[ \\overrightarrow{x_b}\\right]_{[n]} & \\left[\n",
    "\\overrightarrow{y_b}\\right]_{[n]} & \\left[\n",
    "\\overrightarrow{z_b}\\right]_{[n]}\n",
    "\\end{array}\n",
    "\\right].$ \n",
    "\n",
    "One way to define this matrix is the Euler angles, the convention chosen in PyINS is this sequence of elemental rotations as follows:\n",
    "\n",
    "${\\LARGE N \\stackrel{\\text{-heading}}{\\longrightarrow}  \\stackrel{\\text{pitch}}  {\\longrightarrow} \\stackrel{\\text{roll}}{\\longrightarrow}}  \\LARGE B$"
   ]
  },
  {
   "cell_type": "markdown",
   "metadata": {},
   "source": [
    "Let's choose the heading, pitch and roll in degrees:"
   ]
  },
  {
   "cell_type": "code",
   "execution_count": 3,
   "metadata": {},
   "outputs": [],
   "source": [
    "h = +30 # heading\n",
    "p = 10  # pitch\n",
    "r = -6  # roll"
   ]
  },
  {
   "cell_type": "markdown",
   "metadata": {},
   "source": [
    "Compute and plot the direction cosine matrix **B**ody frame to **N**avigation frame :"
   ]
  },
  {
   "cell_type": "code",
   "execution_count": 4,
   "metadata": {},
   "outputs": [],
   "source": [
    "from pyins import dcm"
   ]
  },
  {
   "cell_type": "code",
   "execution_count": 5,
   "metadata": {},
   "outputs": [
    {
     "data": {
      "image/png": "[encoded data removed]",
      "text/plain": [
       "<Figure size 432x288 with 1 Axes>"
      ]
     },
     "metadata": {},
     "output_type": "display_data"
    }
   ],
   "source": [
    "Cnb = dcm.from_hpr(h, p, r)\n",
    "plot_nb(Cnb)"
   ]
  },
  {
   "cell_type": "markdown",
   "metadata": {},
   "source": [
    "## Use of the 3-axis turntable "
   ]
  },
  {
   "cell_type": "markdown",
   "metadata": {},
   "source": [
    "Selection of a 100Hz frequency : "
   ]
  },
  {
   "cell_type": "code",
   "execution_count": 6,
   "metadata": {},
   "outputs": [],
   "source": [
    "dt = 1/100"
   ]
  },
  {
   "cell_type": "markdown",
   "metadata": {},
   "source": [
    "### Creating a sequence"
   ]
  },
  {
   "cell_type": "markdown",
   "metadata": {},
   "source": [
    "Select $N = B$ to start :"
   ]
  },
  {
   "cell_type": "code",
   "execution_count": 7,
   "metadata": {},
   "outputs": [],
   "source": [
    "h0, p0, r0 = 0, 0, 0 "
   ]
  },
  {
   "cell_type": "markdown",
   "metadata": {},
   "source": [
    "Calling the TableRotations object, by default the rest time is 20 seconds and the speed of rotation is 10 °/s"
   ]
  },
  {
   "cell_type": "code",
   "execution_count": 8,
   "metadata": {},
   "outputs": [],
   "source": [
    "from pyins import sim"
   ]
  },
  {
   "cell_type": "code",
   "execution_count": 9,
   "metadata": {},
   "outputs": [],
   "source": [
    "Table = sim.TableRotations(dt, h0, p0, r0)"
   ]
  },
  {
   "cell_type": "markdown",
   "metadata": {},
   "source": [
    "We start with an rest of 5s :"
   ]
  },
  {
   "cell_type": "code",
   "execution_count": 10,
   "metadata": {},
   "outputs": [],
   "source": [
    "Table.rest(5)"
   ]
  },
  {
   "cell_type": "markdown",
   "metadata": {},
   "source": [
    "Then a 90° rotation around $x_n$ at the default rotation speed :"
   ]
  },
  {
   "cell_type": "code",
   "execution_count": 11,
   "metadata": {},
   "outputs": [],
   "source": [
    "Table.rotate(0, 90)"
   ]
  },
  {
   "cell_type": "markdown",
   "metadata": {},
   "source": [
    "Then a default rest:"
   ]
  },
  {
   "cell_type": "code",
   "execution_count": 12,
   "metadata": {},
   "outputs": [],
   "source": [
    "Table.rest()"
   ]
  },
  {
   "cell_type": "markdown",
   "metadata": {},
   "source": [
    "Then a -90° rotation around $y_n$ at 20°/s :"
   ]
  },
  {
   "cell_type": "code",
   "execution_count": 13,
   "metadata": {},
   "outputs": [],
   "source": [
    "Table.rotate(1, -90, 20)"
   ]
  },
  {
   "cell_type": "markdown",
   "metadata": {},
   "source": [
    "Then a default rest:"
   ]
  },
  {
   "cell_type": "code",
   "execution_count": 14,
   "metadata": {},
   "outputs": [],
   "source": [
    "Table.rest()"
   ]
  },
  {
   "cell_type": "markdown",
   "metadata": {},
   "source": [
    "Then a 90° rotation around $z_n$ at the default rotation speed :"
   ]
  },
  {
   "cell_type": "code",
   "execution_count": 15,
   "metadata": {},
   "outputs": [],
   "source": [
    "Table.rotate(2, 90)"
   ]
  },
  {
   "cell_type": "markdown",
   "metadata": {},
   "source": [
    "Then a default rest:"
   ]
  },
  {
   "cell_type": "code",
   "execution_count": 16,
   "metadata": {},
   "outputs": [],
   "source": [
    "Table.rest()"
   ]
  },
  {
   "cell_type": "markdown",
   "metadata": {},
   "source": [
    "And so on... Next time, we'll do a loop for !"
   ]
  },
  {
   "cell_type": "markdown",
   "metadata": {},
   "source": [
    "We can visualize the sequence thanks to Jupiter's interact function :"
   ]
  },
  {
   "cell_type": "code",
   "execution_count": 17,
   "metadata": {},
   "outputs": [
    {
     "data": {
      "application/vnd.jupyter.widget-view+json": {
       "model_id": "042c277e5c1244aea32d65a4130e5f59",
       "version_major": 2,
       "version_minor": 0
      },
      "text/plain": [
       "interactive(children=(FloatSlider(value=0.0, description='t_s', max=87.51, step=1.0), Output()), _dom_classes=…"
      ]
     },
     "metadata": {},
     "output_type": "display_data"
    },
    {
     "data": {
      "text/plain": [
       "<function __main__.f(t_s, dt, Cnb)>"
      ]
     },
     "execution_count": 17,
     "metadata": {},
     "output_type": "execute_result"
    }
   ],
   "source": [
    "def f(t_s, dt, Cnb):\n",
    "    n = int(t_s/dt)\n",
    "    plot_nb(Cnb[n,:,:])\n",
    "    \n",
    "tf = Table.Cnb.shape[0]*dt\n",
    "interact(f, t_s = widgets.FloatSlider(value=0, min=0, max=tf, step=1), Cnb = fixed(Table.Cnb), dt = fixed(dt))"
   ]
  },
  {
   "cell_type": "markdown",
   "metadata": {},
   "source": [
    "### Generate inertial readings"
   ]
  },
  {
   "cell_type": "markdown",
   "metadata": {},
   "source": [
    "We have to choose the position of the table e.g. Paris :"
   ]
  },
  {
   "cell_type": "code",
   "execution_count": 18,
   "metadata": {},
   "outputs": [],
   "source": [
    "lat_Paris = 48.8534  # degrees\n",
    "#lon_Paris = 2.3488  # degrees (Longitude doesn't matter here, the earth is modeled by an ellipsoid of revolution.)\n",
    "alt_Paris = 35       # meters"
   ]
  },
  {
   "cell_type": "markdown",
   "metadata": {},
   "source": [
    "Then we generate the inertial measurements :"
   ]
  },
  {
   "cell_type": "code",
   "execution_count": 19,
   "metadata": {},
   "outputs": [],
   "source": [
    "gyros, accels = sim.stationary_rotation(dt, lat_Paris, alt_Paris, Table.Cnb)"
   ]
  },
  {
   "cell_type": "markdown",
   "metadata": {},
   "source": [
    "The inertial readings are drawn below:"
   ]
  },
  {
   "cell_type": "code",
   "execution_count": 20,
   "metadata": {},
   "outputs": [
    {
     "data": {
      "image/png": "[encoded data removed]",
      "text/plain": [
       "<Figure size 1080x360 with 2 Axes>"
      ]
     },
     "metadata": {
      "needs_background": "light"
     },
     "output_type": "display_data"
    }
   ],
   "source": [
    "def plot_inertial_readings(dt, gyros, accels, step=1):\n",
    "    fig, (ax1, ax2) = plt.subplots(1, 2, figsize=(15, 5))\n",
    "    \n",
    "    n = accels.shape[0]\n",
    "    t =  dt * np.arange(n)\n",
    "    \n",
    "    ax1.plot(t[::step], accels[::step])\n",
    "    ax1.legend(['X','Y','Z'], loc='center right')\n",
    "    ax1.set_xlabel('time, s')\n",
    "    ax1.set_title('accels readings')\n",
    "    ax1.set_ylabel('m/s')\n",
    "    \n",
    "    ax2.plot(t[::step], gyros[::step])\n",
    "    ax2.legend(['X','Y','Z'], loc='center right')\n",
    "    ax2.set_xlabel('time, s')\n",
    "    ax2.set_title('gyros readings')\n",
    "    ax2.set_ylabel('rad')\n",
    "\n",
    "    plt.show()\n",
    "\n",
    "plot_inertial_readings(dt, gyros, accels)"
   ]
  },
  {
   "cell_type": "code",
   "execution_count": null,
   "metadata": {},
   "outputs": [],
   "source": []
  }
 ],
 "metadata": {
  "kernelspec": {
   "display_name": "Python 3",
   "language": "python",
   "name": "python3"
  },
  "language_info": {
   "codemirror_mode": {
    "name": "ipython",
    "version": 3
   },
   "file_extension": ".py",
   "mimetype": "text/x-python",
   "name": "python",
   "nbconvert_exporter": "python",
   "pygments_lexer": "ipython3",
   "version": "3.7.6"
  }
 },
 "nbformat": 4,
 "nbformat_minor": 4
}
