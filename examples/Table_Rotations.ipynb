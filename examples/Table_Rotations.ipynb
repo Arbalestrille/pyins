{
 "cells": [
  {
   "cell_type": "code",
   "execution_count": 1,
   "metadata": {},
   "outputs": [],
   "source": [
    "from ipywidgets import interact, fixed\n",
    "\n",
    "%matplotlib inline"
   ]
  },
  {
   "cell_type": "markdown",
   "metadata": {},
   "source": [
    "## PyINS Convention"
   ]
  },
  {
   "cell_type": "markdown",
   "metadata": {},
   "source": [
    "A direction cosine matrix from heading, pitch and roll angles\n",
    "\n",
    "By definition :\n",
    "${C}_{nb} = \\left[\n",
    "\\begin{array}{ccc}\n",
    "\\left[ \\overrightarrow{x_b}\\right]_{[n]} & \\left[\n",
    "\\overrightarrow{y_b}\\right]_{[n]} & \\left[\n",
    "\\overrightarrow{z_b}\\right]_{[n]}\n",
    "\\end{array}\n",
    "\\right].$ \n",
    "\n",
    "One way to define this matrix is the Euler angles, the convention chosen in PyINS is this sequence of elemental rotations as follows:\n",
    "\n",
    "${\\LARGE N \\stackrel{\\text{-heading}}{\\longrightarrow}  \\stackrel{\\text{pitch}}  {\\longrightarrow} \\stackrel{\\text{roll}}{\\longrightarrow}}  \\LARGE B$"
   ]
  },
  {
   "cell_type": "markdown",
   "metadata": {},
   "source": [
    "Let's choose the heading h, pitch p and roll r in degrees, compute and plot the direction cosine matrix **B**ody frame to **N**avigation frame :"
   ]
  },
  {
   "cell_type": "code",
   "execution_count": 2,
   "metadata": {},
   "outputs": [],
   "source": [
    "from pyins import dcm\n",
    "from helper import plot_nb"
   ]
  },
  {
   "cell_type": "code",
   "execution_count": 3,
   "metadata": {},
   "outputs": [
    {
     "data": {
      "application/vnd.jupyter.widget-view+json": {
       "model_id": "8947ca33d1c34d3c88d40a9cb885eb35",
       "version_major": 2,
       "version_minor": 0
      },
      "text/plain": [
       "interactive(children=(IntSlider(value=0, description='h', max=180, min=-180), IntSlider(value=0, description='…"
      ]
     },
     "metadata": {},
     "output_type": "display_data"
    },
    {
     "data": {
      "text/plain": [
       "<function __main__.f(h, p, r)>"
      ]
     },
     "execution_count": 3,
     "metadata": {},
     "output_type": "execute_result"
    }
   ],
   "source": [
    "def f(h, p, r):\n",
    "    Cnb = dcm.from_hpr(h, p, r)\n",
    "    plot_nb(Cnb)\n",
    "\n",
    "interact(f, h=(-180,180), p =(-180,180), r=(-180,180), continuous_update=False)"
   ]
  },
  {
   "cell_type": "markdown",
   "metadata": {},
   "source": [
    "## Use of the 3-axis turntable "
   ]
  },
  {
   "cell_type": "markdown",
   "metadata": {},
   "source": [
    "Selection of a 100Hz frequency : "
   ]
  },
  {
   "cell_type": "code",
   "execution_count": 4,
   "metadata": {},
   "outputs": [],
   "source": [
    "dt = 1/100"
   ]
  },
  {
   "cell_type": "markdown",
   "metadata": {},
   "source": [
    "### Creating a sequence"
   ]
  },
  {
   "cell_type": "markdown",
   "metadata": {},
   "source": [
    "Select $N = B$ to start :"
   ]
  },
  {
   "cell_type": "code",
   "execution_count": 5,
   "metadata": {},
   "outputs": [],
   "source": [
    "h0, p0, r0 = 0, 0, 0 "
   ]
  },
  {
   "cell_type": "markdown",
   "metadata": {},
   "source": [
    "Calling the TableRotations object, by default the rest time is 20 seconds and the speed of rotation is 10 °/s"
   ]
  },
  {
   "cell_type": "code",
   "execution_count": 6,
   "metadata": {},
   "outputs": [],
   "source": [
    "from pyins import sim"
   ]
  },
  {
   "cell_type": "code",
   "execution_count": 7,
   "metadata": {},
   "outputs": [],
   "source": [
    "Table = sim.TableRotations(dt, h0, p0, r0)"
   ]
  },
  {
   "cell_type": "markdown",
   "metadata": {},
   "source": [
    "We start with an rest of 5s :"
   ]
  },
  {
   "cell_type": "code",
   "execution_count": 8,
   "metadata": {},
   "outputs": [],
   "source": [
    "Table.rest(5)"
   ]
  },
  {
   "cell_type": "markdown",
   "metadata": {},
   "source": [
    "Then a 90° rotation around $x_n$ at the default rotation speed :"
   ]
  },
  {
   "cell_type": "code",
   "execution_count": 9,
   "metadata": {},
   "outputs": [],
   "source": [
    "Table.rotate(0, 90)"
   ]
  },
  {
   "cell_type": "markdown",
   "metadata": {},
   "source": [
    "Then a default rest:"
   ]
  },
  {
   "cell_type": "code",
   "execution_count": 10,
   "metadata": {},
   "outputs": [],
   "source": [
    "Table.rest()"
   ]
  },
  {
   "cell_type": "markdown",
   "metadata": {},
   "source": [
    "Then a -90° rotation around $y_n$ at 20°/s :"
   ]
  },
  {
   "cell_type": "code",
   "execution_count": 11,
   "metadata": {},
   "outputs": [],
   "source": [
    "Table.rotate(1, -90, 20)"
   ]
  },
  {
   "cell_type": "markdown",
   "metadata": {},
   "source": [
    "Then a default rest:"
   ]
  },
  {
   "cell_type": "code",
   "execution_count": 12,
   "metadata": {},
   "outputs": [],
   "source": [
    "Table.rest()"
   ]
  },
  {
   "cell_type": "markdown",
   "metadata": {},
   "source": [
    "Then a 90° rotation around $z_n$ at the default rotation speed :"
   ]
  },
  {
   "cell_type": "code",
   "execution_count": 13,
   "metadata": {},
   "outputs": [],
   "source": [
    "Table.rotate(2, 90)"
   ]
  },
  {
   "cell_type": "markdown",
   "metadata": {},
   "source": [
    "Then a default rest:"
   ]
  },
  {
   "cell_type": "code",
   "execution_count": 14,
   "metadata": {},
   "outputs": [],
   "source": [
    "Table.rest()"
   ]
  },
  {
   "cell_type": "markdown",
   "metadata": {},
   "source": [
    "And so on... Next time, we'll do a loop for !"
   ]
  },
  {
   "cell_type": "markdown",
   "metadata": {},
   "source": [
    "We can visualize the sequence thanks to [Jupiter's interact](https://ipywidgets.readthedocs.io/en/latest/examples/Using%20Interact.html) function :"
   ]
  },
  {
   "cell_type": "code",
   "execution_count": 15,
   "metadata": {},
   "outputs": [
    {
     "data": {
      "application/vnd.jupyter.widget-view+json": {
       "model_id": "c8c8b655bd51476e8fac2ff3cae26b73",
       "version_major": 2,
       "version_minor": 0
      },
      "text/plain": [
       "interactive(children=(FloatSlider(value=43.755, description='t_s', max=87.51), Output()), _dom_classes=('widge…"
      ]
     },
     "metadata": {},
     "output_type": "display_data"
    },
    {
     "data": {
      "text/plain": [
       "<function __main__.f(t_s, dt, Cnb)>"
      ]
     },
     "execution_count": 15,
     "metadata": {},
     "output_type": "execute_result"
    }
   ],
   "source": [
    "def f(t_s, dt, Cnb):\n",
    "    n = int(t_s/dt)\n",
    "    plot_nb(Cnb[n,:,:])\n",
    "    \n",
    "tf = Table.Cnb.shape[0]*dt\n",
    "interact(f, t_s = (0, tf), Cnb = fixed(Table.Cnb), dt = fixed(dt), continuous_update=False)"
   ]
  },
  {
   "cell_type": "markdown",
   "metadata": {},
   "source": [
    "### Generate inertial readings"
   ]
  },
  {
   "cell_type": "markdown",
   "metadata": {},
   "source": [
    "We have to choose the position of the table e.g. Paris :"
   ]
  },
  {
   "cell_type": "code",
   "execution_count": 16,
   "metadata": {},
   "outputs": [],
   "source": [
    "lat_Paris = 48.8534  # degrees\n",
    "alt_Paris = 35       # meters"
   ]
  },
  {
   "cell_type": "markdown",
   "metadata": {},
   "source": [
    "Longitude doesn't matter here, the earth is modeled by an ellipsoid of revolution.\n",
    "\n",
    "Then we generate the inertial measurements :"
   ]
  },
  {
   "cell_type": "code",
   "execution_count": 17,
   "metadata": {},
   "outputs": [],
   "source": [
    "gyros, accels = sim.stationary_rotation(dt, lat_Paris, alt_Paris, Table.Cnb)"
   ]
  },
  {
   "cell_type": "markdown",
   "metadata": {},
   "source": [
    "The inertial readings are drawn below:"
   ]
  },
  {
   "cell_type": "code",
   "execution_count": 18,
   "metadata": {},
   "outputs": [
    {
     "data": {
      "image/png": "[encoded data removed]",
      "text/plain": [
       "<Figure size 1080x360 with 2 Axes>"
      ]
     },
     "metadata": {
      "needs_background": "light"
     },
     "output_type": "display_data"
    }
   ],
   "source": [
    "from helper import plot_inertial_readings\n",
    "\n",
    "plot_inertial_readings(dt, gyros, accels)"
   ]
  },
  {
   "cell_type": "markdown",
   "metadata": {},
   "source": [
    "### Integrating IMU data"
   ]
  },
  {
   "cell_type": "code",
   "execution_count": 19,
   "metadata": {},
   "outputs": [],
   "source": [
    "lon_Paris = 2.3488  # degrees "
   ]
  },
  {
   "cell_type": "code",
   "execution_count": 20,
   "metadata": {},
   "outputs": [],
   "source": [
    "from pyins.integrate import coning_sculling, integrate\n",
    "theta, dv = coning_sculling(gyros, accels)\n",
    "VE0 = 0\n",
    "VN0 = 0\n",
    "traj_ideal = integrate(dt, lat_Paris, lon_Paris, VE0, VN0, h0, p0, r0, theta, dv)"
   ]
  },
  {
   "cell_type": "code",
   "execution_count": 21,
   "metadata": {},
   "outputs": [
    {
     "data": {
      "text/html": [
       "<div>\n",
       "<style scoped>\n",
       "    .dataframe tbody tr th:only-of-type {\n",
       "        vertical-align: middle;\n",
       "    }\n",
       "\n",
       "    .dataframe tbody tr th {\n",
       "        vertical-align: top;\n",
       "    }\n",
       "\n",
       "    .dataframe thead th {\n",
       "        text-align: right;\n",
       "    }\n",
       "</style>\n",
       "<table border=\"1\" class=\"dataframe\">\n",
       "  <thead>\n",
       "    <tr style=\"text-align: right;\">\n",
       "      <th></th>\n",
       "      <th>lat</th>\n",
       "      <th>lon</th>\n",
       "      <th>VE</th>\n",
       "      <th>VN</th>\n",
       "      <th>h</th>\n",
       "      <th>p</th>\n",
       "      <th>r</th>\n",
       "    </tr>\n",
       "    <tr>\n",
       "      <th>stamp</th>\n",
       "      <th></th>\n",
       "      <th></th>\n",
       "      <th></th>\n",
       "      <th></th>\n",
       "      <th></th>\n",
       "      <th></th>\n",
       "      <th></th>\n",
       "    </tr>\n",
       "  </thead>\n",
       "  <tbody>\n",
       "    <tr>\n",
       "      <th>0</th>\n",
       "      <td>48.8534</td>\n",
       "      <td>2.3488</td>\n",
       "      <td>0.000000e+00</td>\n",
       "      <td>0.000000e+00</td>\n",
       "      <td>0.000000e+00</td>\n",
       "      <td>0.000000e+00</td>\n",
       "      <td>0.000000e+00</td>\n",
       "    </tr>\n",
       "    <tr>\n",
       "      <th>1</th>\n",
       "      <td>48.8534</td>\n",
       "      <td>2.3488</td>\n",
       "      <td>-6.668294e-13</td>\n",
       "      <td>1.550569e-08</td>\n",
       "      <td>0.000000e+00</td>\n",
       "      <td>2.287433e-15</td>\n",
       "      <td>3.193851e-20</td>\n",
       "    </tr>\n",
       "    <tr>\n",
       "      <th>2</th>\n",
       "      <td>48.8534</td>\n",
       "      <td>2.3488</td>\n",
       "      <td>-2.557708e-13</td>\n",
       "      <td>3.687227e-08</td>\n",
       "      <td>0.000000e+00</td>\n",
       "      <td>3.052134e-15</td>\n",
       "      <td>6.227064e-20</td>\n",
       "    </tr>\n",
       "    <tr>\n",
       "      <th>3</th>\n",
       "      <td>48.8534</td>\n",
       "      <td>2.3488</td>\n",
       "      <td>-3.841645e-13</td>\n",
       "      <td>4.651708e-08</td>\n",
       "      <td>0.000000e+00</td>\n",
       "      <td>6.801423e-15</td>\n",
       "      <td>9.866920e-20</td>\n",
       "    </tr>\n",
       "    <tr>\n",
       "      <th>4</th>\n",
       "      <td>48.8534</td>\n",
       "      <td>2.3488</td>\n",
       "      <td>-2.181727e-13</td>\n",
       "      <td>9.718810e-08</td>\n",
       "      <td>0.000000e+00</td>\n",
       "      <td>1.485286e-14</td>\n",
       "      <td>9.866920e-20</td>\n",
       "    </tr>\n",
       "    <tr>\n",
       "      <th>...</th>\n",
       "      <td>...</td>\n",
       "      <td>...</td>\n",
       "      <td>...</td>\n",
       "      <td>...</td>\n",
       "      <td>...</td>\n",
       "      <td>...</td>\n",
       "      <td>...</td>\n",
       "    </tr>\n",
       "    <tr>\n",
       "      <th>8746</th>\n",
       "      <td>48.8534</td>\n",
       "      <td>2.3488</td>\n",
       "      <td>3.937924e-08</td>\n",
       "      <td>8.096269e-06</td>\n",
       "      <td>3.839611e-12</td>\n",
       "      <td>3.241011e-09</td>\n",
       "      <td>-9.000000e+01</td>\n",
       "    </tr>\n",
       "    <tr>\n",
       "      <th>8747</th>\n",
       "      <td>48.8534</td>\n",
       "      <td>2.3488</td>\n",
       "      <td>3.930481e-08</td>\n",
       "      <td>8.072980e-06</td>\n",
       "      <td>3.843641e-12</td>\n",
       "      <td>3.241741e-09</td>\n",
       "      <td>-9.000000e+01</td>\n",
       "    </tr>\n",
       "    <tr>\n",
       "      <th>8748</th>\n",
       "      <td>48.8534</td>\n",
       "      <td>2.3488</td>\n",
       "      <td>3.944558e-08</td>\n",
       "      <td>8.094396e-06</td>\n",
       "      <td>3.847669e-12</td>\n",
       "      <td>3.242465e-09</td>\n",
       "      <td>-9.000000e+01</td>\n",
       "    </tr>\n",
       "    <tr>\n",
       "      <th>8749</th>\n",
       "      <td>48.8534</td>\n",
       "      <td>2.3488</td>\n",
       "      <td>3.968152e-08</td>\n",
       "      <td>8.163155e-06</td>\n",
       "      <td>3.851721e-12</td>\n",
       "      <td>3.243196e-09</td>\n",
       "      <td>-9.000000e+01</td>\n",
       "    </tr>\n",
       "    <tr>\n",
       "      <th>8750</th>\n",
       "      <td>48.8534</td>\n",
       "      <td>2.3488</td>\n",
       "      <td>3.920780e-08</td>\n",
       "      <td>7.997843e-06</td>\n",
       "      <td>3.855732e-12</td>\n",
       "      <td>3.243923e-09</td>\n",
       "      <td>-9.000000e+01</td>\n",
       "    </tr>\n",
       "  </tbody>\n",
       "</table>\n",
       "<p>8751 rows × 7 columns</p>\n",
       "</div>"
      ],
      "text/plain": [
       "           lat     lon            VE            VN             h  \\\n",
       "stamp                                                              \n",
       "0      48.8534  2.3488  0.000000e+00  0.000000e+00  0.000000e+00   \n",
       "1      48.8534  2.3488 -6.668294e-13  1.550569e-08  0.000000e+00   \n",
       "2      48.8534  2.3488 -2.557708e-13  3.687227e-08  0.000000e+00   \n",
       "3      48.8534  2.3488 -3.841645e-13  4.651708e-08  0.000000e+00   \n",
       "4      48.8534  2.3488 -2.181727e-13  9.718810e-08  0.000000e+00   \n",
       "...        ...     ...           ...           ...           ...   \n",
       "8746   48.8534  2.3488  3.937924e-08  8.096269e-06  3.839611e-12   \n",
       "8747   48.8534  2.3488  3.930481e-08  8.072980e-06  3.843641e-12   \n",
       "8748   48.8534  2.3488  3.944558e-08  8.094396e-06  3.847669e-12   \n",
       "8749   48.8534  2.3488  3.968152e-08  8.163155e-06  3.851721e-12   \n",
       "8750   48.8534  2.3488  3.920780e-08  7.997843e-06  3.855732e-12   \n",
       "\n",
       "                  p             r  \n",
       "stamp                              \n",
       "0      0.000000e+00  0.000000e+00  \n",
       "1      2.287433e-15  3.193851e-20  \n",
       "2      3.052134e-15  6.227064e-20  \n",
       "3      6.801423e-15  9.866920e-20  \n",
       "4      1.485286e-14  9.866920e-20  \n",
       "...             ...           ...  \n",
       "8746   3.241011e-09 -9.000000e+01  \n",
       "8747   3.241741e-09 -9.000000e+01  \n",
       "8748   3.242465e-09 -9.000000e+01  \n",
       "8749   3.243196e-09 -9.000000e+01  \n",
       "8750   3.243923e-09 -9.000000e+01  \n",
       "\n",
       "[8751 rows x 7 columns]"
      ]
     },
     "execution_count": 21,
     "metadata": {},
     "output_type": "execute_result"
    }
   ],
   "source": [
    "traj_ideal"
   ]
  },
  {
   "cell_type": "code",
   "execution_count": null,
   "metadata": {},
   "outputs": [],
   "source": []
  }
 ],
 "metadata": {
  "kernelspec": {
   "display_name": "Python 3",
   "language": "python",
   "name": "python3"
  },
  "language_info": {
   "codemirror_mode": {
    "name": "ipython",
    "version": 3
   },
   "file_extension": ".py",
   "mimetype": "text/x-python",
   "name": "python",
   "nbconvert_exporter": "python",
   "pygments_lexer": "ipython3",
   "version": "3.7.7"
  }
 },
 "nbformat": 4,
 "nbformat_minor": 4
}
